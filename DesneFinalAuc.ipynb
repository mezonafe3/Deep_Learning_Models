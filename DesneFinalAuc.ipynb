{
 "cells": [
  {
   "cell_type": "code",
   "execution_count": 8,
   "metadata": {
    "_cell_guid": "b1076dfc-b9ad-4769-8c92-a6c4dae69d19",
    "_uuid": "8f2839f25d086af736a60e9eeb907d3b93b6e0e5",
    "execution": {
     "iopub.execute_input": "2024-12-17T07:39:20.320853Z",
     "iopub.status.busy": "2024-12-17T07:39:20.320088Z",
     "iopub.status.idle": "2024-12-17T07:39:21.838527Z",
     "shell.execute_reply": "2024-12-17T07:39:21.837765Z",
     "shell.execute_reply.started": "2024-12-17T07:39:20.320820Z"
    },
    "trusted": true
   },
   "outputs": [],
   "source": [
    "from tensorflow.keras.layers import Input, Add, Conv2D, BatchNormalization, ReLU, GlobalAveragePooling2D, Dense, MaxPooling2D\n",
    "from tensorflow.keras.models import Model\n",
    "from datasets import load_dataset\n",
    "import cv2\n",
    "import numpy as np\n",
    "import os\n",
    "from multiprocessing import Pool\n",
    "from tensorflow.keras.regularizers import l2\n",
    "\n",
    "from IPython.display import clear_output\n",
    "import pandas as pd\n",
    "from sklearn.model_selection import train_test_split\n",
    "from tensorflow.keras.utils import to_categorical\n",
    "from tensorflow.keras.preprocessing.image import ImageDataGenerator, img_to_array, load_img\n",
    "import random,os,glob\n",
    "from tensorflow.keras.callbacks import EarlyStopping\n",
    "import tensorflow as tf\n",
    "import os\n",
    "import matplotlib.pyplot as plt\n",
    "import matplotlib.image as mp\n",
    "import random\n",
    "from tensorflow.keras.applications import Xception\n",
    "from tensorflow.keras.layers import Conv2D, MaxPooling2D, Flatten, Dense\n",
    "from tensorflow.keras.optimizers import Adam\n",
    "from sklearn.utils.class_weight import compute_class_weight\n",
    "\n"
   ]
  },
  {
   "cell_type": "code",
   "execution_count": null,
   "metadata": {
    "execution": {
     "iopub.execute_input": "2024-12-14T19:05:46.415503Z",
     "iopub.status.busy": "2024-12-14T19:05:46.414846Z",
     "iopub.status.idle": "2024-12-14T19:05:46.419814Z",
     "shell.execute_reply": "2024-12-14T19:05:46.418948Z",
     "shell.execute_reply.started": "2024-12-14T19:05:46.415464Z"
    },
    "trusted": true
   },
   "outputs": [],
   "source": [
    "path = '/kaggle/input/minc2500/minc-2500/images/'"
   ]
  },
  {
   "cell_type": "code",
   "execution_count": 3,
   "metadata": {
    "execution": {
     "iopub.execute_input": "2024-12-16T15:34:01.625823Z",
     "iopub.status.busy": "2024-12-16T15:34:01.625490Z",
     "iopub.status.idle": "2024-12-16T15:36:06.880593Z",
     "shell.execute_reply": "2024-12-16T15:36:06.879395Z",
     "shell.execute_reply.started": "2024-12-16T15:34:01.625793Z"
    },
    "trusted": true
   },
   "outputs": [
    {
     "ename": "NameError",
     "evalue": "name 'splitfolders' is not defined",
     "output_type": "error",
     "traceback": [
      "\u001b[0;31m---------------------------------------------------------------------------\u001b[0m",
      "\u001b[0;31mNameError\u001b[0m                                 Traceback (most recent call last)",
      "Cell \u001b[0;32mIn[3], line 17\u001b[0m\n\u001b[1;32m     14\u001b[0m         shutil\u001b[38;5;241m.\u001b[39mcopytree(class_dir, os\u001b[38;5;241m.\u001b[39mpath\u001b[38;5;241m.\u001b[39mjoin(new_dir, class_name))\n\u001b[1;32m     16\u001b[0m \u001b[38;5;66;03m# Now use splitfolders to split the selected classes\u001b[39;00m\n\u001b[0;32m---> 17\u001b[0m \u001b[43msplitfolders\u001b[49m\u001b[38;5;241m.\u001b[39mratio(new_dir, output\u001b[38;5;241m=\u001b[39m\u001b[38;5;124m\"\u001b[39m\u001b[38;5;124m/kaggle/working/Splitted\u001b[39m\u001b[38;5;124m\"\u001b[39m, seed\u001b[38;5;241m=\u001b[39m\u001b[38;5;241m1337\u001b[39m, ratio\u001b[38;5;241m=\u001b[39m(\u001b[38;5;241m0.7\u001b[39m, \u001b[38;5;241m0.15\u001b[39m, \u001b[38;5;241m0.15\u001b[39m))\n\u001b[1;32m     19\u001b[0m \u001b[38;5;28mprint\u001b[39m(\u001b[38;5;124m\"\u001b[39m\u001b[38;5;124mSelected classes have been split into train, validation, and test sets.\u001b[39m\u001b[38;5;124m\"\u001b[39m)\n",
      "\u001b[0;31mNameError\u001b[0m: name 'splitfolders' is not defined"
     ]
    }
   ],
   "source": [
    "import shutil\n",
    "source_dir = \"/kaggle/input/minc2500/minc-2500/images\"\n",
    "selected_classes = ['plastic', 'glass', 'metal', 'wood', 'paper']\n",
    "new_dir = \"/kaggle/working/selected_images\"\n",
    "\n",
    "os.makedirs(new_dir, exist_ok=True)\n",
    "\n",
    "for class_name in selected_classes:\n",
    "    class_dir = os.path.join(source_dir, class_name)\n",
    "    if os.path.isdir(class_dir):\n",
    "        shutil.copytree(class_dir, os.path.join(new_dir, class_name))\n",
    "\n"
   ]
  },
  {
   "cell_type": "code",
   "execution_count": 7,
   "metadata": {
    "execution": {
     "iopub.execute_input": "2024-12-16T15:38:16.787764Z",
     "iopub.status.busy": "2024-12-16T15:38:16.787388Z",
     "iopub.status.idle": "2024-12-16T15:38:18.738219Z",
     "shell.execute_reply": "2024-12-16T15:38:18.737383Z",
     "shell.execute_reply.started": "2024-12-16T15:38:16.787731Z"
    },
    "trusted": true
   },
   "outputs": [
    {
     "name": "stderr",
     "output_type": "stream",
     "text": [
      "Copying files: 12500 files [00:01, 6451.25 files/s]"
     ]
    },
    {
     "name": "stdout",
     "output_type": "stream",
     "text": [
      "Selected classes have been split into train, validation, and test sets.\n"
     ]
    },
    {
     "name": "stderr",
     "output_type": "stream",
     "text": [
      "\n"
     ]
    }
   ],
   "source": [
    "import splitfolders\n",
    "splitfolders.ratio(new_dir, output=\"/kaggle/working/Splitted\", seed=1337, ratio=(0.65, 0.2, 0.15))\n",
    "\n",
    "print(\"Selected classes have been split into train, validation, and test sets.\")"
   ]
  },
  {
   "cell_type": "code",
   "execution_count": 9,
   "metadata": {
    "execution": {
     "iopub.execute_input": "2024-12-17T07:39:27.544406Z",
     "iopub.status.busy": "2024-12-17T07:39:27.543793Z",
     "iopub.status.idle": "2024-12-17T07:39:27.548585Z",
     "shell.execute_reply": "2024-12-17T07:39:27.547580Z",
     "shell.execute_reply.started": "2024-12-17T07:39:27.544373Z"
    },
    "trusted": true
   },
   "outputs": [],
   "source": [
    "train_path = '/kaggle/input/trashdata/train/'\n",
    "val_path = '/kaggle/input/trashdata/val/'\n",
    "test_path = '/kaggle/input/trashdata/test/'"
   ]
  },
  {
   "cell_type": "code",
   "execution_count": null,
   "metadata": {
    "trusted": true
   },
   "outputs": [],
   "source": []
  },
  {
   "cell_type": "code",
   "execution_count": 27,
   "metadata": {
    "execution": {
     "iopub.execute_input": "2024-12-17T07:49:34.350247Z",
     "iopub.status.busy": "2024-12-17T07:49:34.349874Z",
     "iopub.status.idle": "2024-12-17T07:49:37.013440Z",
     "shell.execute_reply": "2024-12-17T07:49:37.012634Z",
     "shell.execute_reply.started": "2024-12-17T07:49:34.350215Z"
    },
    "trusted": true
   },
   "outputs": [
    {
     "name": "stdout",
     "output_type": "stream",
     "text": [
      "Found 4043 images belonging to 6 classes.\n",
      "Found 505 images belonging to 6 classes.\n",
      "Found 506 images belonging to 6 classes.\n"
     ]
    }
   ],
   "source": [
    "image_size = (224, 224)\n",
    "batch_size = 64\n",
    "\n",
    "\n",
    "train_datagen = ImageDataGenerator(rescale=1./255, rotation_range=30, zoom_range=0.2, horizontal_flip=True)\n",
    "\n",
    "\n",
    "val_datagen = ImageDataGenerator(rescale=1./255)\n",
    "\n",
    "test_datagen = ImageDataGenerator(rescale=1./255)\n",
    "train_generator = train_datagen.flow_from_directory(\n",
    "    train_path,\n",
    "    target_size=image_size,\n",
    "    batch_size=batch_size,\n",
    "    class_mode='categorical',\n",
    "    shuffle=True\n",
    ")\n",
    "\n",
    "val_generator = val_datagen.flow_from_directory(\n",
    "    val_path,\n",
    "    target_size=image_size,\n",
    "    batch_size=64, \n",
    "    class_mode='categorical',\n",
    "    shuffle=True\n",
    ")\n",
    "\n",
    "test_generator = test_datagen.flow_from_directory(\n",
    "    test_path,\n",
    "    target_size=image_size,\n",
    "    batch_size= 506, \n",
    "    class_mode='categorical',\n",
    "    shuffle=False\n",
    ")"
   ]
  },
  {
   "cell_type": "code",
   "execution_count": 120,
   "metadata": {
    "execution": {
     "iopub.execute_input": "2024-12-16T20:56:00.065831Z",
     "iopub.status.busy": "2024-12-16T20:56:00.065485Z",
     "iopub.status.idle": "2024-12-16T20:56:01.702570Z",
     "shell.execute_reply": "2024-12-16T20:56:01.701898Z",
     "shell.execute_reply.started": "2024-12-16T20:56:00.065801Z"
    },
    "trusted": true
   },
   "outputs": [],
   "source": [
    "from tensorflow.keras.applications import DenseNet121\n",
    "from tensorflow.keras.models import Sequential\n",
    "from tensorflow.keras.layers import Dense, Dropout, Flatten, GlobalAveragePooling2D\n",
    "from tensorflow.keras.optimizers import Adam\n",
    "\n",
    "img_input = (224, 224, 3)  \n",
    "\n",
    "\n",
    "DenseNet_base = DenseNet121(weights='imagenet', include_top=False, input_shape=img_input)\n",
    "\n",
    "for layer in DenseNet_base.layers:\n",
    "    layer.trainable = False\n",
    "for layer in DenseNet_base.layers[-200:]:\n",
    "    layer.trainable = True\n",
    "\n",
    "model_DenseNet = Sequential()\n",
    "\n",
    "model_DenseNet.add(DenseNet_base)\n",
    "model_DenseNet.add(GlobalAveragePooling2D())\n",
    "\n",
    "\n",
    "model_DenseNet.add(Dense(512, activation='relu'))  \n",
    "model_DenseNet.add(Dropout(0.5))\n",
    "\n",
    "model_DenseNet.add(Dense(512, activation='relu'))\n",
    "model_DenseNet.add(Dropout(0.5))\n",
    "\n",
    "\n",
    "\n",
    "model_DenseNet.add(Dense(256, activation='relu'))\n",
    "\n",
    "\n",
    "\n",
    "model_DenseNet.add(Dense(6, activation='softmax'))  \n",
    "\n",
    "\n"
   ]
  },
  {
   "cell_type": "code",
   "execution_count": 121,
   "metadata": {
    "execution": {
     "iopub.execute_input": "2024-12-16T20:56:04.367333Z",
     "iopub.status.busy": "2024-12-16T20:56:04.366491Z",
     "iopub.status.idle": "2024-12-16T20:56:04.375806Z",
     "shell.execute_reply": "2024-12-16T20:56:04.375091Z",
     "shell.execute_reply.started": "2024-12-16T20:56:04.367294Z"
    },
    "trusted": true
   },
   "outputs": [],
   "source": [
    "optimizer = Adam(learning_rate=0.0001)\n",
    "model_DenseNet.compile(optimizer=optimizer, \n",
    "              loss='categorical_crossentropy',\n",
    "              metrics=['accuracy'])\n"
   ]
  },
  {
   "cell_type": "code",
   "execution_count": 122,
   "metadata": {
    "execution": {
     "iopub.execute_input": "2024-12-16T20:56:06.038516Z",
     "iopub.status.busy": "2024-12-16T20:56:06.037829Z",
     "iopub.status.idle": "2024-12-16T20:56:06.067578Z",
     "shell.execute_reply": "2024-12-16T20:56:06.066798Z",
     "shell.execute_reply.started": "2024-12-16T20:56:06.038485Z"
    },
    "trusted": true
   },
   "outputs": [
    {
     "data": {
      "text/html": [
       "<pre style=\"white-space:pre;overflow-x:auto;line-height:normal;font-family:Menlo,'DejaVu Sans Mono',consolas,'Courier New',monospace\"><span style=\"font-weight: bold\">Model: \"sequential_18\"</span>\n",
       "</pre>\n"
      ],
      "text/plain": [
       "\u001b[1mModel: \"sequential_18\"\u001b[0m\n"
      ]
     },
     "metadata": {},
     "output_type": "display_data"
    },
    {
     "data": {
      "text/html": [
       "<pre style=\"white-space:pre;overflow-x:auto;line-height:normal;font-family:Menlo,'DejaVu Sans Mono',consolas,'Courier New',monospace\">┏━━━━━━━━━━━━━━━━━━━━━━━━━━━━━━━━━┳━━━━━━━━━━━━━━━━━━━━━━━━┳━━━━━━━━━━━━━━━┓\n",
       "┃<span style=\"font-weight: bold\"> Layer (type)                    </span>┃<span style=\"font-weight: bold\"> Output Shape           </span>┃<span style=\"font-weight: bold\">       Param # </span>┃\n",
       "┡━━━━━━━━━━━━━━━━━━━━━━━━━━━━━━━━━╇━━━━━━━━━━━━━━━━━━━━━━━━╇━━━━━━━━━━━━━━━┩\n",
       "│ densenet121 (<span style=\"color: #0087ff; text-decoration-color: #0087ff\">Functional</span>)        │ ?                      │     <span style=\"color: #00af00; text-decoration-color: #00af00\">7,037,504</span> │\n",
       "├─────────────────────────────────┼────────────────────────┼───────────────┤\n",
       "│ global_average_pooling2d_18     │ ?                      │   <span style=\"color: #00af00; text-decoration-color: #00af00\">0</span> (unbuilt) │\n",
       "│ (<span style=\"color: #0087ff; text-decoration-color: #0087ff\">GlobalAveragePooling2D</span>)        │                        │               │\n",
       "├─────────────────────────────────┼────────────────────────┼───────────────┤\n",
       "│ dense_60 (<span style=\"color: #0087ff; text-decoration-color: #0087ff\">Dense</span>)                │ ?                      │   <span style=\"color: #00af00; text-decoration-color: #00af00\">0</span> (unbuilt) │\n",
       "├─────────────────────────────────┼────────────────────────┼───────────────┤\n",
       "│ dropout_33 (<span style=\"color: #0087ff; text-decoration-color: #0087ff\">Dropout</span>)            │ ?                      │   <span style=\"color: #00af00; text-decoration-color: #00af00\">0</span> (unbuilt) │\n",
       "├─────────────────────────────────┼────────────────────────┼───────────────┤\n",
       "│ dense_61 (<span style=\"color: #0087ff; text-decoration-color: #0087ff\">Dense</span>)                │ ?                      │   <span style=\"color: #00af00; text-decoration-color: #00af00\">0</span> (unbuilt) │\n",
       "├─────────────────────────────────┼────────────────────────┼───────────────┤\n",
       "│ dropout_34 (<span style=\"color: #0087ff; text-decoration-color: #0087ff\">Dropout</span>)            │ ?                      │   <span style=\"color: #00af00; text-decoration-color: #00af00\">0</span> (unbuilt) │\n",
       "├─────────────────────────────────┼────────────────────────┼───────────────┤\n",
       "│ dense_62 (<span style=\"color: #0087ff; text-decoration-color: #0087ff\">Dense</span>)                │ ?                      │   <span style=\"color: #00af00; text-decoration-color: #00af00\">0</span> (unbuilt) │\n",
       "├─────────────────────────────────┼────────────────────────┼───────────────┤\n",
       "│ dense_63 (<span style=\"color: #0087ff; text-decoration-color: #0087ff\">Dense</span>)                │ ?                      │   <span style=\"color: #00af00; text-decoration-color: #00af00\">0</span> (unbuilt) │\n",
       "└─────────────────────────────────┴────────────────────────┴───────────────┘\n",
       "</pre>\n"
      ],
      "text/plain": [
       "┏━━━━━━━━━━━━━━━━━━━━━━━━━━━━━━━━━┳━━━━━━━━━━━━━━━━━━━━━━━━┳━━━━━━━━━━━━━━━┓\n",
       "┃\u001b[1m \u001b[0m\u001b[1mLayer (type)                   \u001b[0m\u001b[1m \u001b[0m┃\u001b[1m \u001b[0m\u001b[1mOutput Shape          \u001b[0m\u001b[1m \u001b[0m┃\u001b[1m \u001b[0m\u001b[1m      Param #\u001b[0m\u001b[1m \u001b[0m┃\n",
       "┡━━━━━━━━━━━━━━━━━━━━━━━━━━━━━━━━━╇━━━━━━━━━━━━━━━━━━━━━━━━╇━━━━━━━━━━━━━━━┩\n",
       "│ densenet121 (\u001b[38;5;33mFunctional\u001b[0m)        │ ?                      │     \u001b[38;5;34m7,037,504\u001b[0m │\n",
       "├─────────────────────────────────┼────────────────────────┼───────────────┤\n",
       "│ global_average_pooling2d_18     │ ?                      │   \u001b[38;5;34m0\u001b[0m (unbuilt) │\n",
       "│ (\u001b[38;5;33mGlobalAveragePooling2D\u001b[0m)        │                        │               │\n",
       "├─────────────────────────────────┼────────────────────────┼───────────────┤\n",
       "│ dense_60 (\u001b[38;5;33mDense\u001b[0m)                │ ?                      │   \u001b[38;5;34m0\u001b[0m (unbuilt) │\n",
       "├─────────────────────────────────┼────────────────────────┼───────────────┤\n",
       "│ dropout_33 (\u001b[38;5;33mDropout\u001b[0m)            │ ?                      │   \u001b[38;5;34m0\u001b[0m (unbuilt) │\n",
       "├─────────────────────────────────┼────────────────────────┼───────────────┤\n",
       "│ dense_61 (\u001b[38;5;33mDense\u001b[0m)                │ ?                      │   \u001b[38;5;34m0\u001b[0m (unbuilt) │\n",
       "├─────────────────────────────────┼────────────────────────┼───────────────┤\n",
       "│ dropout_34 (\u001b[38;5;33mDropout\u001b[0m)            │ ?                      │   \u001b[38;5;34m0\u001b[0m (unbuilt) │\n",
       "├─────────────────────────────────┼────────────────────────┼───────────────┤\n",
       "│ dense_62 (\u001b[38;5;33mDense\u001b[0m)                │ ?                      │   \u001b[38;5;34m0\u001b[0m (unbuilt) │\n",
       "├─────────────────────────────────┼────────────────────────┼───────────────┤\n",
       "│ dense_63 (\u001b[38;5;33mDense\u001b[0m)                │ ?                      │   \u001b[38;5;34m0\u001b[0m (unbuilt) │\n",
       "└─────────────────────────────────┴────────────────────────┴───────────────┘\n"
      ]
     },
     "metadata": {},
     "output_type": "display_data"
    },
    {
     "data": {
      "text/html": [
       "<pre style=\"white-space:pre;overflow-x:auto;line-height:normal;font-family:Menlo,'DejaVu Sans Mono',consolas,'Courier New',monospace\"><span style=\"font-weight: bold\"> Total params: </span><span style=\"color: #00af00; text-decoration-color: #00af00\">7,037,504</span> (26.85 MB)\n",
       "</pre>\n"
      ],
      "text/plain": [
       "\u001b[1m Total params: \u001b[0m\u001b[38;5;34m7,037,504\u001b[0m (26.85 MB)\n"
      ]
     },
     "metadata": {},
     "output_type": "display_data"
    },
    {
     "data": {
      "text/html": [
       "<pre style=\"white-space:pre;overflow-x:auto;line-height:normal;font-family:Menlo,'DejaVu Sans Mono',consolas,'Courier New',monospace\"><span style=\"font-weight: bold\"> Trainable params: </span><span style=\"color: #00af00; text-decoration-color: #00af00\">4,403,584</span> (16.80 MB)\n",
       "</pre>\n"
      ],
      "text/plain": [
       "\u001b[1m Trainable params: \u001b[0m\u001b[38;5;34m4,403,584\u001b[0m (16.80 MB)\n"
      ]
     },
     "metadata": {},
     "output_type": "display_data"
    },
    {
     "data": {
      "text/html": [
       "<pre style=\"white-space:pre;overflow-x:auto;line-height:normal;font-family:Menlo,'DejaVu Sans Mono',consolas,'Courier New',monospace\"><span style=\"font-weight: bold\"> Non-trainable params: </span><span style=\"color: #00af00; text-decoration-color: #00af00\">2,633,920</span> (10.05 MB)\n",
       "</pre>\n"
      ],
      "text/plain": [
       "\u001b[1m Non-trainable params: \u001b[0m\u001b[38;5;34m2,633,920\u001b[0m (10.05 MB)\n"
      ]
     },
     "metadata": {},
     "output_type": "display_data"
    },
    {
     "name": "stdout",
     "output_type": "stream",
     "text": [
      "None\n"
     ]
    }
   ],
   "source": [
    "print(model_DenseNet.summary())"
   ]
  },
  {
   "cell_type": "code",
   "execution_count": 123,
   "metadata": {
    "execution": {
     "iopub.execute_input": "2024-12-16T20:56:07.533230Z",
     "iopub.status.busy": "2024-12-16T20:56:07.532391Z",
     "iopub.status.idle": "2024-12-16T21:46:13.894419Z",
     "shell.execute_reply": "2024-12-16T21:46:13.893648Z",
     "shell.execute_reply.started": "2024-12-16T20:56:07.533196Z"
    },
    "trusted": true
   },
   "outputs": [
    {
     "name": "stdout",
     "output_type": "stream",
     "text": [
      "Epoch 1/100\n",
      "\u001b[1m64/64\u001b[0m \u001b[32m━━━━━━━━━━━━━━━━━━━━\u001b[0m\u001b[37m\u001b[0m \u001b[1m179s\u001b[0m 2s/step - accuracy: 0.3441 - loss: 1.6437 - val_accuracy: 0.6673 - val_loss: 0.9009\n",
      "Epoch 2/100\n",
      "\u001b[1m64/64\u001b[0m \u001b[32m━━━━━━━━━━━━━━━━━━━━\u001b[0m\u001b[37m\u001b[0m \u001b[1m46s\u001b[0m 649ms/step - accuracy: 0.6870 - loss: 0.8563 - val_accuracy: 0.8218 - val_loss: 0.4895\n",
      "Epoch 3/100\n",
      "\u001b[1m64/64\u001b[0m \u001b[32m━━━━━━━━━━━━━━━━━━━━\u001b[0m\u001b[37m\u001b[0m \u001b[1m46s\u001b[0m 637ms/step - accuracy: 0.8139 - loss: 0.5343 - val_accuracy: 0.8139 - val_loss: 0.5131\n",
      "Epoch 4/100\n",
      "\u001b[1m64/64\u001b[0m \u001b[32m━━━━━━━━━━━━━━━━━━━━\u001b[0m\u001b[37m\u001b[0m \u001b[1m46s\u001b[0m 645ms/step - accuracy: 0.8781 - loss: 0.3732 - val_accuracy: 0.9050 - val_loss: 0.2676\n",
      "Epoch 5/100\n",
      "\u001b[1m64/64\u001b[0m \u001b[32m━━━━━━━━━━━━━━━━━━━━\u001b[0m\u001b[37m\u001b[0m \u001b[1m47s\u001b[0m 654ms/step - accuracy: 0.9137 - loss: 0.2517 - val_accuracy: 0.9208 - val_loss: 0.2631\n",
      "Epoch 6/100\n",
      "\u001b[1m64/64\u001b[0m \u001b[32m━━━━━━━━━━━━━━━━━━━━\u001b[0m\u001b[37m\u001b[0m \u001b[1m47s\u001b[0m 654ms/step - accuracy: 0.9391 - loss: 0.1842 - val_accuracy: 0.9386 - val_loss: 0.2076\n",
      "Epoch 7/100\n",
      "\u001b[1m64/64\u001b[0m \u001b[32m━━━━━━━━━━━━━━━━━━━━\u001b[0m\u001b[37m\u001b[0m \u001b[1m46s\u001b[0m 647ms/step - accuracy: 0.9507 - loss: 0.1424 - val_accuracy: 0.9208 - val_loss: 0.2253\n",
      "Epoch 8/100\n",
      "\u001b[1m64/64\u001b[0m \u001b[32m━━━━━━━━━━━━━━━━━━━━\u001b[0m\u001b[37m\u001b[0m \u001b[1m46s\u001b[0m 644ms/step - accuracy: 0.9605 - loss: 0.1227 - val_accuracy: 0.9109 - val_loss: 0.3293\n",
      "Epoch 9/100\n",
      "\u001b[1m64/64\u001b[0m \u001b[32m━━━━━━━━━━━━━━━━━━━━\u001b[0m\u001b[37m\u001b[0m \u001b[1m46s\u001b[0m 649ms/step - accuracy: 0.9570 - loss: 0.1357 - val_accuracy: 0.9010 - val_loss: 0.3250\n",
      "Epoch 10/100\n",
      "\u001b[1m64/64\u001b[0m \u001b[32m━━━━━━━━━━━━━━━━━━━━\u001b[0m\u001b[37m\u001b[0m \u001b[1m47s\u001b[0m 650ms/step - accuracy: 0.9797 - loss: 0.0686 - val_accuracy: 0.9446 - val_loss: 0.2127\n",
      "Epoch 11/100\n",
      "\u001b[1m64/64\u001b[0m \u001b[32m━━━━━━━━━━━━━━━━━━━━\u001b[0m\u001b[37m\u001b[0m \u001b[1m46s\u001b[0m 648ms/step - accuracy: 0.9768 - loss: 0.0790 - val_accuracy: 0.8891 - val_loss: 0.4551\n",
      "Epoch 12/100\n",
      "\u001b[1m64/64\u001b[0m \u001b[32m━━━━━━━━━━━━━━━━━━━━\u001b[0m\u001b[37m\u001b[0m \u001b[1m46s\u001b[0m 645ms/step - accuracy: 0.9716 - loss: 0.0858 - val_accuracy: 0.9406 - val_loss: 0.2235\n",
      "Epoch 13/100\n",
      "\u001b[1m64/64\u001b[0m \u001b[32m━━━━━━━━━━━━━━━━━━━━\u001b[0m\u001b[37m\u001b[0m \u001b[1m46s\u001b[0m 646ms/step - accuracy: 0.9792 - loss: 0.0666 - val_accuracy: 0.9564 - val_loss: 0.1787\n",
      "Epoch 14/100\n",
      "\u001b[1m64/64\u001b[0m \u001b[32m━━━━━━━━━━━━━━━━━━━━\u001b[0m\u001b[37m\u001b[0m \u001b[1m47s\u001b[0m 654ms/step - accuracy: 0.9827 - loss: 0.0573 - val_accuracy: 0.9386 - val_loss: 0.2181\n",
      "Epoch 15/100\n",
      "\u001b[1m64/64\u001b[0m \u001b[32m━━━━━━━━━━━━━━━━━━━━\u001b[0m\u001b[37m\u001b[0m \u001b[1m47s\u001b[0m 650ms/step - accuracy: 0.9854 - loss: 0.0493 - val_accuracy: 0.9525 - val_loss: 0.2039\n",
      "Epoch 16/100\n",
      "\u001b[1m64/64\u001b[0m \u001b[32m━━━━━━━━━━━━━━━━━━━━\u001b[0m\u001b[37m\u001b[0m \u001b[1m46s\u001b[0m 649ms/step - accuracy: 0.9865 - loss: 0.0411 - val_accuracy: 0.9545 - val_loss: 0.1756\n",
      "Epoch 17/100\n",
      "\u001b[1m64/64\u001b[0m \u001b[32m━━━━━━━━━━━━━━━━━━━━\u001b[0m\u001b[37m\u001b[0m \u001b[1m46s\u001b[0m 654ms/step - accuracy: 0.9896 - loss: 0.0283 - val_accuracy: 0.9644 - val_loss: 0.1550\n",
      "Epoch 18/100\n",
      "\u001b[1m64/64\u001b[0m \u001b[32m━━━━━━━━━━━━━━━━━━━━\u001b[0m\u001b[37m\u001b[0m \u001b[1m46s\u001b[0m 649ms/step - accuracy: 0.9927 - loss: 0.0201 - val_accuracy: 0.9584 - val_loss: 0.1920\n",
      "Epoch 19/100\n",
      "\u001b[1m64/64\u001b[0m \u001b[32m━━━━━━━━━━━━━━━━━━━━\u001b[0m\u001b[37m\u001b[0m \u001b[1m47s\u001b[0m 650ms/step - accuracy: 0.9878 - loss: 0.0333 - val_accuracy: 0.9584 - val_loss: 0.2070\n",
      "Epoch 20/100\n",
      "\u001b[1m64/64\u001b[0m \u001b[32m━━━━━━━━━━━━━━━━━━━━\u001b[0m\u001b[37m\u001b[0m \u001b[1m47s\u001b[0m 658ms/step - accuracy: 0.9901 - loss: 0.0367 - val_accuracy: 0.9584 - val_loss: 0.1831\n",
      "Epoch 21/100\n",
      "\u001b[1m64/64\u001b[0m \u001b[32m━━━━━━━━━━━━━━━━━━━━\u001b[0m\u001b[37m\u001b[0m \u001b[1m46s\u001b[0m 645ms/step - accuracy: 0.9884 - loss: 0.0364 - val_accuracy: 0.9525 - val_loss: 0.2453\n",
      "Epoch 22/100\n",
      "\u001b[1m64/64\u001b[0m \u001b[32m━━━━━━━━━━━━━━━━━━━━\u001b[0m\u001b[37m\u001b[0m \u001b[1m47s\u001b[0m 654ms/step - accuracy: 0.9931 - loss: 0.0218 - val_accuracy: 0.9703 - val_loss: 0.1532\n",
      "Epoch 23/100\n",
      "\u001b[1m64/64\u001b[0m \u001b[32m━━━━━━━━━━━━━━━━━━━━\u001b[0m\u001b[37m\u001b[0m \u001b[1m47s\u001b[0m 660ms/step - accuracy: 0.9907 - loss: 0.0317 - val_accuracy: 0.9545 - val_loss: 0.2058\n",
      "Epoch 24/100\n",
      "\u001b[1m64/64\u001b[0m \u001b[32m━━━━━━━━━━━━━━━━━━━━\u001b[0m\u001b[37m\u001b[0m \u001b[1m46s\u001b[0m 644ms/step - accuracy: 0.9931 - loss: 0.0245 - val_accuracy: 0.9604 - val_loss: 0.1736\n",
      "Epoch 25/100\n",
      "\u001b[1m64/64\u001b[0m \u001b[32m━━━━━━━━━━━━━━━━━━━━\u001b[0m\u001b[37m\u001b[0m \u001b[1m46s\u001b[0m 647ms/step - accuracy: 0.9947 - loss: 0.0193 - val_accuracy: 0.9644 - val_loss: 0.1708\n",
      "Epoch 26/100\n",
      "\u001b[1m64/64\u001b[0m \u001b[32m━━━━━━━━━━━━━━━━━━━━\u001b[0m\u001b[37m\u001b[0m \u001b[1m46s\u001b[0m 639ms/step - accuracy: 0.9928 - loss: 0.0228 - val_accuracy: 0.9624 - val_loss: 0.1575\n",
      "Epoch 27/100\n",
      "\u001b[1m64/64\u001b[0m \u001b[32m━━━━━━━━━━━━━━━━━━━━\u001b[0m\u001b[37m\u001b[0m \u001b[1m46s\u001b[0m 645ms/step - accuracy: 0.9925 - loss: 0.0275 - val_accuracy: 0.9663 - val_loss: 0.1497\n",
      "Epoch 28/100\n",
      "\u001b[1m64/64\u001b[0m \u001b[32m━━━━━━━━━━━━━━━━━━━━\u001b[0m\u001b[37m\u001b[0m \u001b[1m46s\u001b[0m 646ms/step - accuracy: 0.9953 - loss: 0.0142 - val_accuracy: 0.9604 - val_loss: 0.2043\n",
      "Epoch 29/100\n",
      "\u001b[1m64/64\u001b[0m \u001b[32m━━━━━━━━━━━━━━━━━━━━\u001b[0m\u001b[37m\u001b[0m \u001b[1m45s\u001b[0m 636ms/step - accuracy: 0.9925 - loss: 0.0233 - val_accuracy: 0.9683 - val_loss: 0.1781\n",
      "Epoch 30/100\n",
      "\u001b[1m64/64\u001b[0m \u001b[32m━━━━━━━━━━━━━━━━━━━━\u001b[0m\u001b[37m\u001b[0m \u001b[1m47s\u001b[0m 648ms/step - accuracy: 0.9972 - loss: 0.0095 - val_accuracy: 0.9366 - val_loss: 0.3956\n",
      "Epoch 31/100\n",
      "\u001b[1m64/64\u001b[0m \u001b[32m━━━━━━━━━━━━━━━━━━━━\u001b[0m\u001b[37m\u001b[0m \u001b[1m46s\u001b[0m 645ms/step - accuracy: 0.9810 - loss: 0.0593 - val_accuracy: 0.9624 - val_loss: 0.1728\n",
      "Epoch 32/100\n",
      "\u001b[1m64/64\u001b[0m \u001b[32m━━━━━━━━━━━━━━━━━━━━\u001b[0m\u001b[37m\u001b[0m \u001b[1m46s\u001b[0m 648ms/step - accuracy: 0.9894 - loss: 0.0422 - val_accuracy: 0.9505 - val_loss: 0.1732\n",
      "Epoch 33/100\n",
      "\u001b[1m64/64\u001b[0m \u001b[32m━━━━━━━━━━━━━━━━━━━━\u001b[0m\u001b[37m\u001b[0m \u001b[1m46s\u001b[0m 644ms/step - accuracy: 0.9905 - loss: 0.0315 - val_accuracy: 0.9564 - val_loss: 0.1623\n",
      "Epoch 34/100\n",
      "\u001b[1m64/64\u001b[0m \u001b[32m━━━━━━━━━━━━━━━━━━━━\u001b[0m\u001b[37m\u001b[0m \u001b[1m46s\u001b[0m 639ms/step - accuracy: 0.9901 - loss: 0.0432 - val_accuracy: 0.9446 - val_loss: 0.2177\n",
      "Epoch 35/100\n",
      "\u001b[1m64/64\u001b[0m \u001b[32m━━━━━━━━━━━━━━━━━━━━\u001b[0m\u001b[37m\u001b[0m \u001b[1m47s\u001b[0m 654ms/step - accuracy: 0.9947 - loss: 0.0223 - val_accuracy: 0.9723 - val_loss: 0.1154\n",
      "Epoch 36/100\n",
      "\u001b[1m64/64\u001b[0m \u001b[32m━━━━━━━━━━━━━━━━━━━━\u001b[0m\u001b[37m\u001b[0m \u001b[1m46s\u001b[0m 646ms/step - accuracy: 0.9922 - loss: 0.0264 - val_accuracy: 0.9723 - val_loss: 0.1372\n",
      "Epoch 37/100\n",
      "\u001b[1m64/64\u001b[0m \u001b[32m━━━━━━━━━━━━━━━━━━━━\u001b[0m\u001b[37m\u001b[0m \u001b[1m46s\u001b[0m 644ms/step - accuracy: 0.9962 - loss: 0.0114 - val_accuracy: 0.9644 - val_loss: 0.1703\n",
      "Epoch 38/100\n",
      "\u001b[1m64/64\u001b[0m \u001b[32m━━━━━━━━━━━━━━━━━━━━\u001b[0m\u001b[37m\u001b[0m \u001b[1m46s\u001b[0m 646ms/step - accuracy: 0.9935 - loss: 0.0216 - val_accuracy: 0.9683 - val_loss: 0.1192\n",
      "Epoch 39/100\n",
      "\u001b[1m64/64\u001b[0m \u001b[32m━━━━━━━━━━━━━━━━━━━━\u001b[0m\u001b[37m\u001b[0m \u001b[1m46s\u001b[0m 642ms/step - accuracy: 0.9925 - loss: 0.0211 - val_accuracy: 0.9644 - val_loss: 0.1246\n",
      "Epoch 40/100\n",
      "\u001b[1m64/64\u001b[0m \u001b[32m━━━━━━━━━━━━━━━━━━━━\u001b[0m\u001b[37m\u001b[0m \u001b[1m46s\u001b[0m 650ms/step - accuracy: 0.9950 - loss: 0.0139 - val_accuracy: 0.9703 - val_loss: 0.1303\n",
      "Epoch 41/100\n",
      "\u001b[1m64/64\u001b[0m \u001b[32m━━━━━━━━━━━━━━━━━━━━\u001b[0m\u001b[37m\u001b[0m \u001b[1m46s\u001b[0m 658ms/step - accuracy: 0.9966 - loss: 0.0097 - val_accuracy: 0.9762 - val_loss: 0.1119\n",
      "Epoch 42/100\n",
      "\u001b[1m64/64\u001b[0m \u001b[32m━━━━━━━━━━━━━━━━━━━━\u001b[0m\u001b[37m\u001b[0m \u001b[1m46s\u001b[0m 649ms/step - accuracy: 0.9955 - loss: 0.0172 - val_accuracy: 0.9663 - val_loss: 0.1103\n",
      "Epoch 43/100\n",
      "\u001b[1m64/64\u001b[0m \u001b[32m━━━━━━━━━━━━━━━━━━━━\u001b[0m\u001b[37m\u001b[0m \u001b[1m46s\u001b[0m 640ms/step - accuracy: 0.9969 - loss: 0.0169 - val_accuracy: 0.9644 - val_loss: 0.1348\n",
      "Epoch 44/100\n",
      "\u001b[1m64/64\u001b[0m \u001b[32m━━━━━━━━━━━━━━━━━━━━\u001b[0m\u001b[37m\u001b[0m \u001b[1m46s\u001b[0m 649ms/step - accuracy: 0.9965 - loss: 0.0104 - val_accuracy: 0.9683 - val_loss: 0.1493\n",
      "Epoch 45/100\n",
      "\u001b[1m64/64\u001b[0m \u001b[32m━━━━━━━━━━━━━━━━━━━━\u001b[0m\u001b[37m\u001b[0m \u001b[1m46s\u001b[0m 641ms/step - accuracy: 0.9957 - loss: 0.0153 - val_accuracy: 0.9683 - val_loss: 0.1443\n",
      "Epoch 46/100\n",
      "\u001b[1m64/64\u001b[0m \u001b[32m━━━━━━━━━━━━━━━━━━━━\u001b[0m\u001b[37m\u001b[0m \u001b[1m47s\u001b[0m 660ms/step - accuracy: 0.9960 - loss: 0.0140 - val_accuracy: 0.9465 - val_loss: 0.2726\n",
      "Epoch 47/100\n",
      "\u001b[1m64/64\u001b[0m \u001b[32m━━━━━━━━━━━━━━━━━━━━\u001b[0m\u001b[37m\u001b[0m \u001b[1m46s\u001b[0m 644ms/step - accuracy: 0.9892 - loss: 0.0390 - val_accuracy: 0.9703 - val_loss: 0.1230\n",
      "Epoch 48/100\n",
      "\u001b[1m64/64\u001b[0m \u001b[32m━━━━━━━━━━━━━━━━━━━━\u001b[0m\u001b[37m\u001b[0m \u001b[1m46s\u001b[0m 644ms/step - accuracy: 0.9953 - loss: 0.0121 - val_accuracy: 0.9644 - val_loss: 0.1710\n",
      "Epoch 49/100\n",
      "\u001b[1m64/64\u001b[0m \u001b[32m━━━━━━━━━━━━━━━━━━━━\u001b[0m\u001b[37m\u001b[0m \u001b[1m46s\u001b[0m 641ms/step - accuracy: 0.9950 - loss: 0.0126 - val_accuracy: 0.9624 - val_loss: 0.1590\n",
      "Epoch 50/100\n",
      "\u001b[1m64/64\u001b[0m \u001b[32m━━━━━━━━━━━━━━━━━━━━\u001b[0m\u001b[37m\u001b[0m \u001b[1m46s\u001b[0m 640ms/step - accuracy: 0.9969 - loss: 0.0092 - val_accuracy: 0.9703 - val_loss: 0.1499\n",
      "Epoch 51/100\n",
      "\u001b[1m64/64\u001b[0m \u001b[32m━━━━━━━━━━━━━━━━━━━━\u001b[0m\u001b[37m\u001b[0m \u001b[1m46s\u001b[0m 649ms/step - accuracy: 0.9956 - loss: 0.0106 - val_accuracy: 0.9703 - val_loss: 0.1618\n",
      "Epoch 52/100\n",
      "\u001b[1m64/64\u001b[0m \u001b[32m━━━━━━━━━━━━━━━━━━━━\u001b[0m\u001b[37m\u001b[0m \u001b[1m46s\u001b[0m 641ms/step - accuracy: 0.9981 - loss: 0.0078 - val_accuracy: 0.9762 - val_loss: 0.1393\n",
      "Epoch 53/100\n",
      "\u001b[1m64/64\u001b[0m \u001b[32m━━━━━━━━━━━━━━━━━━━━\u001b[0m\u001b[37m\u001b[0m \u001b[1m46s\u001b[0m 645ms/step - accuracy: 0.9982 - loss: 0.0087 - val_accuracy: 0.9723 - val_loss: 0.1522\n",
      "Epoch 54/100\n",
      "\u001b[1m64/64\u001b[0m \u001b[32m━━━━━━━━━━━━━━━━━━━━\u001b[0m\u001b[37m\u001b[0m \u001b[1m46s\u001b[0m 642ms/step - accuracy: 0.9964 - loss: 0.0106 - val_accuracy: 0.9604 - val_loss: 0.1729\n",
      "Epoch 55/100\n",
      "\u001b[1m64/64\u001b[0m \u001b[32m━━━━━━━━━━━━━━━━━━━━\u001b[0m\u001b[37m\u001b[0m \u001b[1m45s\u001b[0m 634ms/step - accuracy: 0.9967 - loss: 0.0169 - val_accuracy: 0.9802 - val_loss: 0.1232\n",
      "Epoch 56/100\n",
      "\u001b[1m64/64\u001b[0m \u001b[32m━━━━━━━━━━━━━━━━━━━━\u001b[0m\u001b[37m\u001b[0m \u001b[1m46s\u001b[0m 642ms/step - accuracy: 0.9951 - loss: 0.0110 - val_accuracy: 0.9703 - val_loss: 0.1234\n",
      "Epoch 57/100\n",
      "\u001b[1m64/64\u001b[0m \u001b[32m━━━━━━━━━━━━━━━━━━━━\u001b[0m\u001b[37m\u001b[0m \u001b[1m47s\u001b[0m 659ms/step - accuracy: 0.9970 - loss: 0.0079 - val_accuracy: 0.9782 - val_loss: 0.1300\n",
      "Epoch 58/100\n",
      "\u001b[1m64/64\u001b[0m \u001b[32m━━━━━━━━━━━━━━━━━━━━\u001b[0m\u001b[37m\u001b[0m \u001b[1m46s\u001b[0m 646ms/step - accuracy: 0.9988 - loss: 0.0081 - val_accuracy: 0.9663 - val_loss: 0.1559\n",
      "Epoch 59/100\n",
      "\u001b[1m64/64\u001b[0m \u001b[32m━━━━━━━━━━━━━━━━━━━━\u001b[0m\u001b[37m\u001b[0m \u001b[1m46s\u001b[0m 647ms/step - accuracy: 0.9891 - loss: 0.0531 - val_accuracy: 0.9644 - val_loss: 0.1551\n",
      "Epoch 60/100\n",
      "\u001b[1m64/64\u001b[0m \u001b[32m━━━━━━━━━━━━━━━━━━━━\u001b[0m\u001b[37m\u001b[0m \u001b[1m47s\u001b[0m 648ms/step - accuracy: 0.9959 - loss: 0.0127 - val_accuracy: 0.9644 - val_loss: 0.1823\n",
      "Epoch 61/100\n",
      "\u001b[1m64/64\u001b[0m \u001b[32m━━━━━━━━━━━━━━━━━━━━\u001b[0m\u001b[37m\u001b[0m \u001b[1m46s\u001b[0m 644ms/step - accuracy: 0.9915 - loss: 0.0257 - val_accuracy: 0.9624 - val_loss: 0.2119\n",
      "Epoch 62/100\n",
      "\u001b[1m64/64\u001b[0m \u001b[32m━━━━━━━━━━━━━━━━━━━━\u001b[0m\u001b[37m\u001b[0m \u001b[1m47s\u001b[0m 657ms/step - accuracy: 0.9918 - loss: 0.0319 - val_accuracy: 0.9663 - val_loss: 0.2049\n"
     ]
    }
   ],
   "source": [
    "early_stopping = EarlyStopping(monitor='val_loss', patience=20, restore_best_weights=True)\n",
    "\n",
    "history = model_DenseNet.fit(\n",
    "    train_generator,\n",
    "    epochs=100,  \n",
    "    validation_data=val_generator,\n",
    "    validation_steps=val_generator.samples,\n",
    "    callbacks=[early_stopping]\n",
    ")\n"
   ]
  },
  {
   "cell_type": "code",
   "execution_count": 124,
   "metadata": {
    "execution": {
     "iopub.execute_input": "2024-12-16T21:47:16.835526Z",
     "iopub.status.busy": "2024-12-16T21:47:16.834788Z",
     "iopub.status.idle": "2024-12-16T21:47:17.551257Z",
     "shell.execute_reply": "2024-12-16T21:47:17.550548Z",
     "shell.execute_reply.started": "2024-12-16T21:47:16.835494Z"
    },
    "trusted": true
   },
   "outputs": [],
   "source": [
    "model_DenseNet.save(\"model_denseNetFinal.h5\")"
   ]
  },
  {
   "cell_type": "code",
   "execution_count": 125,
   "metadata": {
    "execution": {
     "iopub.execute_input": "2024-12-16T21:47:19.159288Z",
     "iopub.status.busy": "2024-12-16T21:47:19.158698Z",
     "iopub.status.idle": "2024-12-16T21:47:32.518661Z",
     "shell.execute_reply": "2024-12-16T21:47:32.517899Z",
     "shell.execute_reply.started": "2024-12-16T21:47:19.159254Z"
    },
    "trusted": true
   },
   "outputs": [
    {
     "name": "stdout",
     "output_type": "stream",
     "text": [
      "\u001b[1m8/8\u001b[0m \u001b[32m━━━━━━━━━━━━━━━━━━━━\u001b[0m\u001b[37m\u001b[0m \u001b[1m13s\u001b[0m 2s/step - accuracy: 0.9710 - loss: 0.1481 \n"
     ]
    },
    {
     "data": {
      "text/plain": [
       "[0.19232119619846344, 0.9683794379234314]"
      ]
     },
     "execution_count": 125,
     "metadata": {},
     "output_type": "execute_result"
    }
   ],
   "source": [
    "model_DenseNet.evaluate(test_generator)"
   ]
  },
  {
   "cell_type": "code",
   "execution_count": 4,
   "metadata": {
    "execution": {
     "iopub.execute_input": "2024-12-17T07:38:59.803205Z",
     "iopub.status.busy": "2024-12-17T07:38:59.802575Z",
     "iopub.status.idle": "2024-12-17T07:39:02.772073Z",
     "shell.execute_reply": "2024-12-17T07:39:02.771160Z",
     "shell.execute_reply.started": "2024-12-17T07:38:59.803170Z"
    },
    "trusted": true
   },
   "outputs": [],
   "source": [
    "from tensorflow.keras.models import load_model\n",
    "\n",
    "model_DenseNet= load_model(\"/kaggle/working/model_denseNetFinal.h5\")"
   ]
  },
  {
   "cell_type": "code",
   "execution_count": 28,
   "metadata": {
    "execution": {
     "iopub.execute_input": "2024-12-17T07:50:00.880279Z",
     "iopub.status.busy": "2024-12-17T07:50:00.879583Z",
     "iopub.status.idle": "2024-12-17T07:50:41.824703Z",
     "shell.execute_reply": "2024-12-17T07:50:41.823753Z",
     "shell.execute_reply.started": "2024-12-17T07:50:00.880245Z"
    },
    "trusted": true
   },
   "outputs": [
    {
     "name": "stderr",
     "output_type": "stream",
     "text": [
      "/opt/conda/lib/python3.10/site-packages/keras/src/trainers/data_adapters/py_dataset_adapter.py:121: UserWarning: Your `PyDataset` class should call `super().__init__(**kwargs)` in its constructor. `**kwargs` can include `workers`, `use_multiprocessing`, `max_queue_size`. Do not pass these arguments to `fit()`, as they will be ignored.\n",
      "  self._warn_if_super_not_called()\n"
     ]
    },
    {
     "name": "stdout",
     "output_type": "stream",
     "text": [
      "\u001b[1m1/1\u001b[0m \u001b[32m━━━━━━━━━━━━━━━━━━━━\u001b[0m\u001b[37m\u001b[0m \u001b[1m39s\u001b[0m 39s/step\n"
     ]
    }
   ],
   "source": [
    "y_pred_probs = model_DenseNet.predict(test_generator, steps=len(test_generator))\n",
    "y_pred = np.argmax(y_pred_probs, axis=1) \n",
    "y_true = test_generator.classes"
   ]
  },
  {
   "cell_type": "code",
   "execution_count": 30,
   "metadata": {
    "execution": {
     "iopub.execute_input": "2024-12-17T07:50:52.626812Z",
     "iopub.status.busy": "2024-12-17T07:50:52.626171Z",
     "iopub.status.idle": "2024-12-17T07:50:52.945252Z",
     "shell.execute_reply": "2024-12-17T07:50:52.944405Z",
     "shell.execute_reply.started": "2024-12-17T07:50:52.626780Z"
    },
    "trusted": true
   },
   "outputs": [
    {
     "data": {
      "image/png": "[encoded data removed]",
      "text/plain": [
       "<Figure size 800x600 with 2 Axes>"
      ]
     },
     "metadata": {},
     "output_type": "display_data"
    }
   ],
   "source": [
    "from sklearn.metrics import confusion_matrix, classification_report\n",
    "import matplotlib.pyplot as plt\n",
    "import seaborn as sns\n",
    "\n",
    "cm = confusion_matrix(y_true, y_pred, normalize='true')\n",
    "\n",
    "plt.figure(figsize=(8, 6))\n",
    "sns.heatmap(cm, annot=True, fmt=\".2f\", cmap=\"Blues\", \n",
    "            xticklabels=test_generator.class_indices.keys(), \n",
    "            yticklabels=test_generator.class_indices.keys())\n",
    "plt.xlabel('Predicted')\n",
    "plt.ylabel('True')\n",
    "plt.title('Confusion Matrix')\n",
    "plt.show()"
   ]
  },
  {
   "cell_type": "code",
   "execution_count": 33,
   "metadata": {
    "execution": {
     "iopub.execute_input": "2024-12-17T07:56:39.616766Z",
     "iopub.status.busy": "2024-12-17T07:56:39.615908Z",
     "iopub.status.idle": "2024-12-17T07:56:39.841968Z",
     "shell.execute_reply": "2024-12-17T07:56:39.841195Z",
     "shell.execute_reply.started": "2024-12-17T07:56:39.616727Z"
    },
    "trusted": true
   },
   "outputs": [
    {
     "data": {
      "image/png": "[encoded data removed]",
      "text/plain": [
       "<Figure size 1000x700 with 1 Axes>"
      ]
     },
     "metadata": {},
     "output_type": "display_data"
    }
   ],
   "source": [
    "from sklearn.metrics import roc_curve, auc\n",
    "from sklearn.preprocessing import label_binarize\n",
    "import matplotlib.pyplot as plt\n",
    "from sklearn.metrics import RocCurveDisplay\n",
    "import numpy as np\n",
    "\n",
    "\n",
    "n_classes = len(set(y_true)) \n",
    "y_true_bin = label_binarize(y_true, classes=list(range(n_classes)))\n",
    "\n",
    "fpr = dict()\n",
    "tpr = dict()\n",
    "roc_auc = dict()\n",
    "\n",
    "for i in range(n_classes):\n",
    "    fpr[i], tpr[i], _ = roc_curve(y_true_bin[:, i], y_pred_probs[:, i])\n",
    "    roc_auc[i] = auc(fpr[i], tpr[i])\n",
    "\n",
    "plt.figure(figsize=(10, 7))\n",
    "for i in range(n_classes):\n",
    "    plt.plot(fpr[i], tpr[i], label=f'Class {i} (AUC = {roc_auc[i]:.2f})')\n",
    "\n",
    "plt.plot([0, 1], [0, 1], 'k--', lw=2)\n",
    "\n",
    "plt.xlabel('False Positive Rate')\n",
    "plt.ylabel('True Positive Rate')\n",
    "plt.title('ROC Curves for Multi-class Classification')\n",
    "plt.legend(loc=\"lower right\")\n",
    "plt.show()\n"
   ]
  },
  {
   "cell_type": "code",
   "execution_count": 35,
   "metadata": {
    "execution": {
     "iopub.execute_input": "2024-12-17T07:59:06.658286Z",
     "iopub.status.busy": "2024-12-17T07:59:06.657904Z",
     "iopub.status.idle": "2024-12-17T07:59:06.675582Z",
     "shell.execute_reply": "2024-12-17T07:59:06.674741Z",
     "shell.execute_reply.started": "2024-12-17T07:59:06.658255Z"
    },
    "trusted": true
   },
   "outputs": [
    {
     "name": "stdout",
     "output_type": "stream",
     "text": [
      "Precision: 0.9689\n",
      "Recall: 0.9684\n",
      "F1-Score: 0.9684\n",
      "AUC: 0.9971\n"
     ]
    }
   ],
   "source": [
    "from sklearn.metrics import precision_score, recall_score, f1_score, roc_auc_score\n",
    "from sklearn.preprocessing import label_binarize\n",
    "import numpy as np\n",
    "\n",
    "\n",
    "n_classes = len(set(y_true))  \n",
    "\n",
    "precision = precision_score(y_true, y_pred, average='weighted')\n",
    "recall = recall_score(y_true, y_pred, average='weighted')\n",
    "f1 = f1_score(y_true, y_pred, average='weighted')\n",
    "\n",
    "y_true_bin = label_binarize(y_true, classes=list(range(n_classes)))\n",
    "auc = roc_auc_score(y_true_bin, y_pred_probs, average='weighted', multi_class='ovr')\n",
    "\n",
    "print(f\"Precision: {precision:.4f}\")\n",
    "print(f\"Recall: {recall:.4f}\")\n",
    "print(f\"F1-Score: {f1:.4f}\")\n",
    "print(f\"AUC: {auc:.4f}\")\n"
   ]
  },
  {
   "cell_type": "code",
   "execution_count": null,
   "metadata": {
    "trusted": true
   },
   "outputs": [],
   "source": []
  },
  {
   "cell_type": "code",
   "execution_count": null,
   "metadata": {
    "trusted": true
   },
   "outputs": [],
   "source": []
  }
 ],
 "metadata": {
  "kaggle": {
   "accelerator": "gpu",
   "dataSources": [
    {
     "datasetId": 1688338,
     "sourceId": 2766742,
     "sourceType": "datasetVersion"
    },
    {
     "datasetId": 1730328,
     "sourceId": 2828934,
     "sourceType": "datasetVersion"
    },
    {
     "datasetId": 6286239,
     "sourceId": 10177445,
     "sourceType": "datasetVersion"
    },
    {
     "datasetId": 6289000,
     "sourceId": 10181024,
     "sourceType": "datasetVersion"
    },
    {
     "datasetId": 6295988,
     "sourceId": 10190351,
     "sourceType": "datasetVersion"
    },
    {
     "datasetId": 6317792,
     "sourceId": 10219999,
     "sourceType": "datasetVersion"
    }
   ],
   "dockerImageVersionId": 30805,
   "isGpuEnabled": true,
   "isInternetEnabled": true,
   "language": "python",
   "sourceType": "notebook"
  },
  "kernelspec": {
   "display_name": "Python 3",
   "language": "python",
   "name": "python3"
  },
  "language_info": {
   "codemirror_mode": {
    "name": "ipython",
    "version": 3
   },
   "file_extension": ".py",
   "mimetype": "text/x-python",
   "name": "python",
   "nbconvert_exporter": "python",
   "pygments_lexer": "ipython3",
   "version": "3.10.14"
  }
 },
 "nbformat": 4,
 "nbformat_minor": 4
}
